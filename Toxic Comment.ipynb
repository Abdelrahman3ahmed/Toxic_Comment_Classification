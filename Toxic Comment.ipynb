{
 "cells": [
  {
   "cell_type": "markdown",
   "id": "c4f69eca",
   "metadata": {},
   "source": [
    "## Text Classfication"
   ]
  },
  {
   "cell_type": "markdown",
   "id": "dbb38744",
   "metadata": {},
   "source": [
    "## Kaggle Comptition Link : https://www.kaggle.com/c/jigsaw-toxic-comment-classification-challenge\n",
    "## Dropout Methods : https://mirror-medium.com/?m=https%3A%2F%2Ftowardsdatascience.com%2F12-main-dropout-methods-mathematical-and-visual-explanation-58cdc2112293"
   ]
  },
  {
   "cell_type": "code",
   "execution_count": null,
   "id": "727fd34c",
   "metadata": {},
   "outputs": [],
   "source": []
  },
  {
   "cell_type": "markdown",
   "id": "752cdb6c",
   "metadata": {},
   "source": [
    "## Imports"
   ]
  },
  {
   "cell_type": "code",
   "execution_count": 25,
   "id": "7d760b35",
   "metadata": {},
   "outputs": [],
   "source": [
    "import pandas as pd\n",
    "import matplotlib.pyplot as plt\n",
    "from sklearn.model_selection import train_test_split\n",
    "\n",
    "from bs4 import BeautifulSoup\n",
    "import spacy\n",
    "import unidecode\n",
    "from word2number import w2n\n",
    "import contractions# load spacy model, can be \"en_core_web_sm\" as well\n",
    "nlp = spacy.load('en_core_web_md')\n",
    "\n",
    "import nltk\n",
    "from nltk.corpus import stopwords\n",
    "from nltk.stem import WordNetLemmatizer\n",
    "\n",
    "import re\n",
    "\n",
    "import warnings\n",
    "warnings.filterwarnings(\"ignore\")\n",
    "\n",
    "pd.set_option('display.max_colwidth', 100000)"
   ]
  },
  {
   "cell_type": "markdown",
   "id": "cae601da",
   "metadata": {},
   "source": [
    "# EDA"
   ]
  },
  {
   "cell_type": "code",
   "execution_count": 10,
   "id": "2e28c9b9",
   "metadata": {},
   "outputs": [],
   "source": [
    "Data_toxic = pd.read_csv(\"data/train.csv\")"
   ]
  },
  {
   "cell_type": "code",
   "execution_count": 11,
   "id": "9447383c",
   "metadata": {},
   "outputs": [
    {
     "data": {
      "text/html": [
       "<div>\n",
       "<style scoped>\n",
       "    .dataframe tbody tr th:only-of-type {\n",
       "        vertical-align: middle;\n",
       "    }\n",
       "\n",
       "    .dataframe tbody tr th {\n",
       "        vertical-align: top;\n",
       "    }\n",
       "\n",
       "    .dataframe thead th {\n",
       "        text-align: right;\n",
       "    }\n",
       "</style>\n",
       "<table border=\"1\" class=\"dataframe\">\n",
       "  <thead>\n",
       "    <tr style=\"text-align: right;\">\n",
       "      <th></th>\n",
       "      <th>id</th>\n",
       "      <th>comment_text</th>\n",
       "      <th>toxic</th>\n",
       "      <th>severe_toxic</th>\n",
       "      <th>obscene</th>\n",
       "      <th>threat</th>\n",
       "      <th>insult</th>\n",
       "      <th>identity_hate</th>\n",
       "    </tr>\n",
       "  </thead>\n",
       "  <tbody>\n",
       "    <tr>\n",
       "      <th>33161</th>\n",
       "      <td>58471d50d51732a9</td>\n",
       "      <td>\"\\n\\n Classic \\nJimmy Wales stated, \"\"We need to maintain and improve our quality standards, while at the same time remaining open, friendly, and welcoming as a community. This is a challenge.\"\" Wikipedia's co-founder Larry Sanger characterizes the Wikipedia community as ineffective and abusive, stating that \"\"The community does not enforce its own rules effectively or consistently. Consequently, administrators and ordinary participants alike are able essentially to act abusively with impunity, which begets a never-ending cycle of abuse.\"\" Oliver Kamm, of The Times expressed skepticism toward Wikipedia's reliance on consensus in forming its content: \"\"Wikipedia seeks not truth but consensus, and like an interminable political meeting the end result will be dominated by the loudest and most persistent voices.\"\"Wisdom? More like dumbness of the crowds | Oliver Kamm – Times Online (archive version 2011-08-14) (Author’s own copy)\\nThe complaints related to the community include the effects of users' anonymity, the attitudes towards newcomers, the abuse of privileges by administrators, biases in the social structure of the community, in particular, gender bias and lack of female contributors, \\n\\nSounds like they are talking about this article. Good thing some of us are loud and persistent in our calls for neutrality and balance.    \"</td>\n",
       "      <td>0</td>\n",
       "      <td>0</td>\n",
       "      <td>0</td>\n",
       "      <td>0</td>\n",
       "      <td>0</td>\n",
       "      <td>0</td>\n",
       "    </tr>\n",
       "  </tbody>\n",
       "</table>\n",
       "</div>"
      ],
      "text/plain": [
       "                     id  \\\n",
       "33161  58471d50d51732a9   \n",
       "\n",
       "                                                                                                                                                                                                                                                                                                                                                                                                                                                                                                                                                                                                                                                                                                                                                                                                                                                                                                                                                                                                                                                                                                                                                                                                                                                                                                                                                                                                  comment_text  \\\n",
       "33161  \"\\n\\n Classic \\nJimmy Wales stated, \"\"We need to maintain and improve our quality standards, while at the same time remaining open, friendly, and welcoming as a community. This is a challenge.\"\" Wikipedia's co-founder Larry Sanger characterizes the Wikipedia community as ineffective and abusive, stating that \"\"The community does not enforce its own rules effectively or consistently. Consequently, administrators and ordinary participants alike are able essentially to act abusively with impunity, which begets a never-ending cycle of abuse.\"\" Oliver Kamm, of The Times expressed skepticism toward Wikipedia's reliance on consensus in forming its content: \"\"Wikipedia seeks not truth but consensus, and like an interminable political meeting the end result will be dominated by the loudest and most persistent voices.\"\"Wisdom? More like dumbness of the crowds | Oliver Kamm – Times Online (archive version 2011-08-14) (Author’s own copy)\\nThe complaints related to the community include the effects of users' anonymity, the attitudes towards newcomers, the abuse of privileges by administrators, biases in the social structure of the community, in particular, gender bias and lack of female contributors, \\n\\nSounds like they are talking about this article. Good thing some of us are loud and persistent in our calls for neutrality and balance.    \"   \n",
       "\n",
       "       toxic  severe_toxic  obscene  threat  insult  identity_hate  \n",
       "33161      0             0        0       0       0              0  "
      ]
     },
     "execution_count": 11,
     "metadata": {},
     "output_type": "execute_result"
    }
   ],
   "source": [
    "Data_toxic.sample()"
   ]
  },
  {
   "cell_type": "code",
   "execution_count": 12,
   "id": "b5e2df8d",
   "metadata": {},
   "outputs": [
    {
     "data": {
      "text/plain": [
       "0"
      ]
     },
     "execution_count": 12,
     "metadata": {},
     "output_type": "execute_result"
    }
   ],
   "source": [
    "Data_toxic.duplicated().sum()"
   ]
  },
  {
   "cell_type": "code",
   "execution_count": 13,
   "id": "7a3cc0f1",
   "metadata": {},
   "outputs": [
    {
     "data": {
      "text/plain": [
       "id               0\n",
       "comment_text     0\n",
       "toxic            0\n",
       "severe_toxic     0\n",
       "obscene          0\n",
       "threat           0\n",
       "insult           0\n",
       "identity_hate    0\n",
       "dtype: int64"
      ]
     },
     "execution_count": 13,
     "metadata": {},
     "output_type": "execute_result"
    }
   ],
   "source": [
    "Data_toxic.isnull().sum()"
   ]
  },
  {
   "cell_type": "code",
   "execution_count": 9,
   "id": "500a50df",
   "metadata": {},
   "outputs": [],
   "source": [
    "def get_Catgory_values(data):\n",
    "    value_count = []\n",
    "    for i in list(data.columns):\n",
    "        value_count.append((i , data[i].sum()))\n",
    "    return pd.DataFrame(value_count , columns=[\"Label\" , \"Value count\"])    "
   ]
  },
  {
   "cell_type": "code",
   "execution_count": 14,
   "id": "9a787455",
   "metadata": {},
   "outputs": [
    {
     "data": {
      "text/html": [
       "<div>\n",
       "<style scoped>\n",
       "    .dataframe tbody tr th:only-of-type {\n",
       "        vertical-align: middle;\n",
       "    }\n",
       "\n",
       "    .dataframe tbody tr th {\n",
       "        vertical-align: top;\n",
       "    }\n",
       "\n",
       "    .dataframe thead th {\n",
       "        text-align: right;\n",
       "    }\n",
       "</style>\n",
       "<table border=\"1\" class=\"dataframe\">\n",
       "  <thead>\n",
       "    <tr style=\"text-align: right;\">\n",
       "      <th></th>\n",
       "      <th>Label</th>\n",
       "      <th>Value count</th>\n",
       "    </tr>\n",
       "  </thead>\n",
       "  <tbody>\n",
       "    <tr>\n",
       "      <th>0</th>\n",
       "      <td>toxic</td>\n",
       "      <td>15294</td>\n",
       "    </tr>\n",
       "    <tr>\n",
       "      <th>1</th>\n",
       "      <td>severe_toxic</td>\n",
       "      <td>1595</td>\n",
       "    </tr>\n",
       "    <tr>\n",
       "      <th>2</th>\n",
       "      <td>obscene</td>\n",
       "      <td>8449</td>\n",
       "    </tr>\n",
       "    <tr>\n",
       "      <th>3</th>\n",
       "      <td>threat</td>\n",
       "      <td>478</td>\n",
       "    </tr>\n",
       "    <tr>\n",
       "      <th>4</th>\n",
       "      <td>insult</td>\n",
       "      <td>7877</td>\n",
       "    </tr>\n",
       "    <tr>\n",
       "      <th>5</th>\n",
       "      <td>identity_hate</td>\n",
       "      <td>1405</td>\n",
       "    </tr>\n",
       "  </tbody>\n",
       "</table>\n",
       "</div>"
      ],
      "text/plain": [
       "           Label  Value count\n",
       "0          toxic        15294\n",
       "1   severe_toxic         1595\n",
       "2        obscene         8449\n",
       "3         threat          478\n",
       "4         insult         7877\n",
       "5  identity_hate         1405"
      ]
     },
     "execution_count": 14,
     "metadata": {},
     "output_type": "execute_result"
    }
   ],
   "source": [
    "get_Catgory_values(Data_toxic.iloc[: ,2:])"
   ]
  },
  {
   "cell_type": "code",
   "execution_count": 23,
   "id": "94d02afe",
   "metadata": {},
   "outputs": [],
   "source": [
    "def Visualize_categories(data):\n",
    "    df = Data_toxic.sum(axis=1).value_counts().reset_index()\n",
    "    plt.bar(df[\"index\"] , df[0])"
   ]
  },
  {
   "cell_type": "code",
   "execution_count": 26,
   "id": "7a90af00",
   "metadata": {},
   "outputs": [
    {
     "data": {
      "image/png": "[encoded data removed]",
      "text/plain": [
       "<Figure size 432x288 with 1 Axes>"
      ]
     },
     "metadata": {
      "needs_background": "light"
     },
     "output_type": "display_data"
    }
   ],
   "source": [
    "Visualize_categories(Data_toxic.iloc[: ,2:])"
   ]
  },
  {
   "cell_type": "markdown",
   "id": "a91b8f35",
   "metadata": {},
   "source": [
    "## Data Pre-processing "
   ]
  },
  {
   "cell_type": "markdown",
   "id": "d5cf4343",
   "metadata": {},
   "source": [
    "### Remove stop words"
   ]
  },
  {
   "cell_type": "code",
   "execution_count": 27,
   "id": "64d42533",
   "metadata": {},
   "outputs": [],
   "source": [
    "stop_words = stopwords.words('english')\n",
    "for w in stop_words:\n",
    "    nlp.vocab[w].is_stop = False"
   ]
  },
  {
   "cell_type": "code",
   "execution_count": 28,
   "id": "65471ccc",
   "metadata": {},
   "outputs": [],
   "source": [
    "## Pre-processing Function"
   ]
  },
  {
   "cell_type": "code",
   "execution_count": 33,
   "id": "60fe2033",
   "metadata": {},
   "outputs": [],
   "source": [
    "def text_preprocessing(text): \n",
    "    \"\"\"remove html tags from text\"\"\"\n",
    "    soup = BeautifulSoup(text, \"html.parser\")\n",
    "    text = soup.get_text(separator=\" \")\n",
    "    \n",
    "    \"\"\"remove extra whitespaces from text\"\"\"\n",
    "    text = text.strip()\n",
    "    text =  \" \".join(text.split())\n",
    "\n",
    "    \"\"\"remove accented characters from text, e.g. café\"\"\"\n",
    "    text = unidecode.unidecode(text)\n",
    "    \n",
    "    \"\"\"expand shortened words, e.g. don't to do not\"\"\"\n",
    "    text = contractions.fix(text)\n",
    "    \n",
    "    \"\"\"keep it all Lower\"\"\"\n",
    "    text = text.lower()\n",
    "    \n",
    "    \"\"\"tokenise text\"\"\"\n",
    "    doc = nlp(text) \n",
    "    clean_text = []\n",
    "    \n",
    "    for token in doc:\n",
    "        flag = True\n",
    "        edit = token.text\n",
    "        \n",
    "        \"\"\"remove stop words\"\"\"\n",
    "        if token.is_stop and token.pos_ != 'NUM': \n",
    "            flag = False\n",
    "            \n",
    "        \"\"\"remove punctuations\"\"\"    \n",
    "        if token.pos_ == 'PUNCT' and flag == True: \n",
    "            flag = False\n",
    "            \n",
    "        \"\"\"remove special characters \"\"\" \n",
    "        if token.pos_ == 'SYM' and flag == True: \n",
    "            flag = False\n",
    "            \n",
    "        \"\"\"remove numbers\"\"\"    \n",
    "        if (token.pos_ == 'NUM' or token.text.isnumeric()) \\\n",
    "        and flag == True:\n",
    "            flag = False\n",
    "            \n",
    "        \"\"\"convert number words to numeric numbers\"\"\"    \n",
    "        if token.pos_ == 'NUM' and flag == True:\n",
    "            edit = w2n.word_to_num(token.text)\n",
    "            \n",
    "        # convert tokens to base form     \n",
    "        elif token.lemma_ != \"-PRON-\" and flag == True:\n",
    "            edit = token.lemma_\n",
    "            \n",
    "        \"\"\"append tokens edited and not removed to list \"\"\"    \n",
    "        if edit != \"\" and flag == True:\n",
    "            clean_text.append(edit) \n",
    "        \n",
    "    return clean_text"
   ]
  },
  {
   "cell_type": "code",
   "execution_count": null,
   "id": "41c09bea",
   "metadata": {},
   "outputs": [],
   "source": [
    "Data_toxic[\"comment_text\"] = Data_toxic[\"comment_text\"].apply(lambda x:' '.join(text_preprocessing(x)))"
   ]
  },
  {
   "cell_type": "code",
   "execution_count": null,
   "id": "bf6acfe0",
   "metadata": {},
   "outputs": [],
   "source": []
  },
  {
   "cell_type": "markdown",
   "id": "b75abeff",
   "metadata": {},
   "source": [
    "## Modeling"
   ]
  },
  {
   "cell_type": "code",
   "execution_count": null,
   "id": "d8d1ac02",
   "metadata": {},
   "outputs": [],
   "source": [
    "from keras import layers,models\n",
    "\n",
    "model=models.Sequential()\n",
    "model.add(layers.Dense(128,activation='relu',input_shape=(15000,)))\n",
    "model.add(layers.Dense(64,activation='relu'))\n",
    "model.add(layers.Dense(16,activation='relu'))\n",
    "model.add(layers.Dense(1,activation='sigmoid'))"
   ]
  },
  {
   "cell_type": "code",
   "execution_count": null,
   "id": "77ec96d7",
   "metadata": {},
   "outputs": [],
   "source": [
    "from keras import layers,models\n",
    "\n",
    "model=models.Sequential()\n",
    "model.add(layers.Dense(128,activation='relu',input_shape=(15000,)))\n",
    "model.add(layers.Dense(64,activation='relu'))\n",
    "model.add(layers.Dense(16,activation='relu'))\n",
    "model.add(layers.Dense(1,activation='sigmoid'))"
   ]
  },
  {
   "cell_type": "code",
   "execution_count": null,
   "id": "a97543a3",
   "metadata": {},
   "outputs": [],
   "source": []
  },
  {
   "cell_type": "code",
   "execution_count": null,
   "id": "bfd3874e",
   "metadata": {},
   "outputs": [],
   "source": []
  },
  {
   "cell_type": "code",
   "execution_count": null,
   "id": "b27cc9e1",
   "metadata": {},
   "outputs": [],
   "source": []
  },
  {
   "cell_type": "code",
   "execution_count": null,
   "id": "038a9326",
   "metadata": {},
   "outputs": [],
   "source": []
  },
  {
   "cell_type": "code",
   "execution_count": null,
   "id": "b1d21e53",
   "metadata": {},
   "outputs": [],
   "source": []
  }
 ],
 "metadata": {
  "kernelspec": {
   "display_name": "Python 3 (ipykernel)",
   "language": "python",
   "name": "python3"
  },
  "language_info": {
   "codemirror_mode": {
    "name": "ipython",
    "version": 3
   },
   "file_extension": ".py",
   "mimetype": "text/x-python",
   "name": "python",
   "nbconvert_exporter": "python",
   "pygments_lexer": "ipython3",
   "version": "3.8.13"
  }
 },
 "nbformat": 4,
 "nbformat_minor": 5
}
