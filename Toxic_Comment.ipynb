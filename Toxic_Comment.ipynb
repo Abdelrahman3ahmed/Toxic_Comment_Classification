{
  "cells": [
    {
      "cell_type": "markdown",
      "metadata": {
        "id": "02783bd6"
      },
      "source": [
        "## Text Classfication"
      ],
      "id": "02783bd6"
    },
    {
      "cell_type": "markdown",
      "metadata": {
        "id": "693315bd"
      },
      "source": [
        "[Kaggle Comptition Link](https://www.kaggle.com/c/jigsaw-toxic-comment-classification-challenge)\n",
        "\n",
        "[Dropout Methods](https://mirror-medium.com/?m=https%3A%2F%2Ftowardsdatascience.com%2F12-main-dropout-methods-mathematical-and-visual-explanation-58cdc2112293)"
      ],
      "id": "693315bd"
    },
    {
      "cell_type": "code",
      "execution_count": null,
      "metadata": {
        "colab": {
          "base_uri": "https://localhost:8080/"
        },
        "id": "RWSJpsyKqHjH",
        "outputId": "03a00d6e-a911-49fc-c897-3c8d2d6acb57"
      },
      "outputs": [
        {
          "name": "stdout",
          "output_type": "stream",
          "text": [
            "Drive already mounted at /content/drive; to attempt to forcibly remount, call drive.mount(\"/content/drive\", force_remount=True).\n"
          ]
        }
      ],
      "source": [
        "from google.colab import drive\n",
        "drive.mount('/content/drive')"
      ],
      "id": "RWSJpsyKqHjH"
    },
    {
      "cell_type": "markdown",
      "metadata": {
        "id": "7813939b"
      },
      "source": [
        "## Imports"
      ],
      "id": "7813939b"
    },
    {
      "cell_type": "code",
      "execution_count": null,
      "metadata": {
        "colab": {
          "base_uri": "https://localhost:8080/"
        },
        "id": "kKkL9QCVn7Hi",
        "outputId": "1e9bad39-dabb-48bf-ef0b-30f580661f1b"
      },
      "outputs": [
        {
          "name": "stdout",
          "output_type": "stream",
          "text": [
            "Looking in indexes: https://pypi.org/simple, https://us-python.pkg.dev/colab-wheels/public/simple/\n",
            "Requirement already satisfied: unidecode in /usr/local/lib/python3.7/dist-packages (1.3.4)\n",
            "Looking in indexes: https://pypi.org/simple, https://us-python.pkg.dev/colab-wheels/public/simple/\n",
            "Requirement already satisfied: word2number in /usr/local/lib/python3.7/dist-packages (1.1)\n",
            "Looking in indexes: https://pypi.org/simple, https://us-python.pkg.dev/colab-wheels/public/simple/\n",
            "Requirement already satisfied: contractions in /usr/local/lib/python3.7/dist-packages (0.1.72)\n",
            "Requirement already satisfied: textsearch>=0.0.21 in /usr/local/lib/python3.7/dist-packages (from contractions) (0.0.21)\n",
            "Requirement already satisfied: pyahocorasick in /usr/local/lib/python3.7/dist-packages (from textsearch>=0.0.21->contractions) (1.4.4)\n",
            "Requirement already satisfied: anyascii in /usr/local/lib/python3.7/dist-packages (from textsearch>=0.0.21->contractions) (0.3.1)\n",
            "Looking in indexes: https://pypi.org/simple, https://us-python.pkg.dev/colab-wheels/public/simple/\n",
            "Collecting en-core-web-md==3.3.0\n",
            "  Downloading https://github.com/explosion/spacy-models/releases/download/en_core_web_md-3.3.0/en_core_web_md-3.3.0-py3-none-any.whl (33.5 MB)\n",
            "\u001b[K     |████████████████████████████████| 33.5 MB 1.3 MB/s \n",
            "\u001b[?25hRequirement already satisfied: spacy<3.4.0,>=3.3.0.dev0 in /usr/local/lib/python3.7/dist-packages (from en-core-web-md==3.3.0) (3.3.1)\n",
            "Requirement already satisfied: blis<0.8.0,>=0.4.0 in /usr/local/lib/python3.7/dist-packages (from spacy<3.4.0,>=3.3.0.dev0->en-core-web-md==3.3.0) (0.7.7)\n",
            "Requirement already satisfied: tqdm<5.0.0,>=4.38.0 in /usr/local/lib/python3.7/dist-packages (from spacy<3.4.0,>=3.3.0.dev0->en-core-web-md==3.3.0) (4.64.0)\n",
            "Requirement already satisfied: wasabi<1.1.0,>=0.9.1 in /usr/local/lib/python3.7/dist-packages (from spacy<3.4.0,>=3.3.0.dev0->en-core-web-md==3.3.0) (0.9.1)\n",
            "Requirement already satisfied: cymem<2.1.0,>=2.0.2 in /usr/local/lib/python3.7/dist-packages (from spacy<3.4.0,>=3.3.0.dev0->en-core-web-md==3.3.0) (2.0.6)\n",
            "Requirement already satisfied: langcodes<4.0.0,>=3.2.0 in /usr/local/lib/python3.7/dist-packages (from spacy<3.4.0,>=3.3.0.dev0->en-core-web-md==3.3.0) (3.3.0)\n",
            "Requirement already satisfied: preshed<3.1.0,>=3.0.2 in /usr/local/lib/python3.7/dist-packages (from spacy<3.4.0,>=3.3.0.dev0->en-core-web-md==3.3.0) (3.0.6)\n",
            "Requirement already satisfied: srsly<3.0.0,>=2.4.3 in /usr/local/lib/python3.7/dist-packages (from spacy<3.4.0,>=3.3.0.dev0->en-core-web-md==3.3.0) (2.4.3)\n",
            "Requirement already satisfied: numpy>=1.15.0 in /usr/local/lib/python3.7/dist-packages (from spacy<3.4.0,>=3.3.0.dev0->en-core-web-md==3.3.0) (1.21.6)\n",
            "Requirement already satisfied: pydantic!=1.8,!=1.8.1,<1.9.0,>=1.7.4 in /usr/local/lib/python3.7/dist-packages (from spacy<3.4.0,>=3.3.0.dev0->en-core-web-md==3.3.0) (1.8.2)\n",
            "Requirement already satisfied: typing-extensions<4.2.0,>=3.7.4 in /usr/local/lib/python3.7/dist-packages (from spacy<3.4.0,>=3.3.0.dev0->en-core-web-md==3.3.0) (4.1.1)\n",
            "Requirement already satisfied: catalogue<2.1.0,>=2.0.6 in /usr/local/lib/python3.7/dist-packages (from spacy<3.4.0,>=3.3.0.dev0->en-core-web-md==3.3.0) (2.0.7)\n",
            "Requirement already satisfied: typer<0.5.0,>=0.3.0 in /usr/local/lib/python3.7/dist-packages (from spacy<3.4.0,>=3.3.0.dev0->en-core-web-md==3.3.0) (0.4.1)\n",
            "Requirement already satisfied: setuptools in /usr/local/lib/python3.7/dist-packages (from spacy<3.4.0,>=3.3.0.dev0->en-core-web-md==3.3.0) (57.4.0)\n",
            "Requirement already satisfied: pathy>=0.3.5 in /usr/local/lib/python3.7/dist-packages (from spacy<3.4.0,>=3.3.0.dev0->en-core-web-md==3.3.0) (0.6.1)\n",
            "Requirement already satisfied: packaging>=20.0 in /usr/local/lib/python3.7/dist-packages (from spacy<3.4.0,>=3.3.0.dev0->en-core-web-md==3.3.0) (21.3)\n",
            "Requirement already satisfied: murmurhash<1.1.0,>=0.28.0 in /usr/local/lib/python3.7/dist-packages (from spacy<3.4.0,>=3.3.0.dev0->en-core-web-md==3.3.0) (1.0.7)\n",
            "Requirement already satisfied: requests<3.0.0,>=2.13.0 in /usr/local/lib/python3.7/dist-packages (from spacy<3.4.0,>=3.3.0.dev0->en-core-web-md==3.3.0) (2.23.0)\n",
            "Requirement already satisfied: thinc<8.1.0,>=8.0.14 in /usr/local/lib/python3.7/dist-packages (from spacy<3.4.0,>=3.3.0.dev0->en-core-web-md==3.3.0) (8.0.17)\n",
            "Requirement already satisfied: spacy-loggers<2.0.0,>=1.0.0 in /usr/local/lib/python3.7/dist-packages (from spacy<3.4.0,>=3.3.0.dev0->en-core-web-md==3.3.0) (1.0.2)\n",
            "Requirement already satisfied: jinja2 in /usr/local/lib/python3.7/dist-packages (from spacy<3.4.0,>=3.3.0.dev0->en-core-web-md==3.3.0) (2.11.3)\n",
            "Requirement already satisfied: spacy-legacy<3.1.0,>=3.0.9 in /usr/local/lib/python3.7/dist-packages (from spacy<3.4.0,>=3.3.0.dev0->en-core-web-md==3.3.0) (3.0.9)\n",
            "Requirement already satisfied: zipp>=0.5 in /usr/local/lib/python3.7/dist-packages (from catalogue<2.1.0,>=2.0.6->spacy<3.4.0,>=3.3.0.dev0->en-core-web-md==3.3.0) (3.8.0)\n",
            "Requirement already satisfied: pyparsing!=3.0.5,>=2.0.2 in /usr/local/lib/python3.7/dist-packages (from packaging>=20.0->spacy<3.4.0,>=3.3.0.dev0->en-core-web-md==3.3.0) (3.0.9)\n",
            "Requirement already satisfied: smart-open<6.0.0,>=5.0.0 in /usr/local/lib/python3.7/dist-packages (from pathy>=0.3.5->spacy<3.4.0,>=3.3.0.dev0->en-core-web-md==3.3.0) (5.2.1)\n",
            "Requirement already satisfied: urllib3!=1.25.0,!=1.25.1,<1.26,>=1.21.1 in /usr/local/lib/python3.7/dist-packages (from requests<3.0.0,>=2.13.0->spacy<3.4.0,>=3.3.0.dev0->en-core-web-md==3.3.0) (1.24.3)\n",
            "Requirement already satisfied: chardet<4,>=3.0.2 in /usr/local/lib/python3.7/dist-packages (from requests<3.0.0,>=2.13.0->spacy<3.4.0,>=3.3.0.dev0->en-core-web-md==3.3.0) (3.0.4)\n",
            "Requirement already satisfied: certifi>=2017.4.17 in /usr/local/lib/python3.7/dist-packages (from requests<3.0.0,>=2.13.0->spacy<3.4.0,>=3.3.0.dev0->en-core-web-md==3.3.0) (2022.6.15)\n",
            "Requirement already satisfied: idna<3,>=2.5 in /usr/local/lib/python3.7/dist-packages (from requests<3.0.0,>=2.13.0->spacy<3.4.0,>=3.3.0.dev0->en-core-web-md==3.3.0) (2.10)\n",
            "Requirement already satisfied: click<9.0.0,>=7.1.1 in /usr/local/lib/python3.7/dist-packages (from typer<0.5.0,>=0.3.0->spacy<3.4.0,>=3.3.0.dev0->en-core-web-md==3.3.0) (7.1.2)\n",
            "Requirement already satisfied: MarkupSafe>=0.23 in /usr/local/lib/python3.7/dist-packages (from jinja2->spacy<3.4.0,>=3.3.0.dev0->en-core-web-md==3.3.0) (2.0.1)\n",
            "\u001b[38;5;2m✔ Download and installation successful\u001b[0m\n",
            "You can now load the package via spacy.load('en_core_web_md')\n"
          ]
        }
      ],
      "source": [
        "!pip install unidecode\n",
        "!pip install word2number\n",
        "!pip install contractions\n",
        "!python -m spacy download en_core_web_md"
      ],
      "id": "kKkL9QCVn7Hi"
    },
    {
      "cell_type": "code",
      "execution_count": null,
      "metadata": {
        "id": "157b2676"
      },
      "outputs": [],
      "source": [
        "import pandas as pd\n",
        "import matplotlib.pyplot as plt\n",
        "from sklearn.model_selection import train_test_split\n",
        "from sklearn import metrics\n",
        "\n",
        "\n",
        "from keras import layers,models\n",
        "\n",
        "from tensorflow.keras.layers import Embedding\n",
        "from tensorflow.keras.preprocessing.sequence import pad_sequences\n",
        "import tensorflow as tf\n",
        "\n",
        "from bs4 import BeautifulSoup\n",
        "import spacy\n",
        "import unidecode\n",
        "from word2number import w2n\n",
        "import contractions# load spacy model, can be \"en_core_web_sm\" as well\n",
        "nlp = spacy.load('en_core_web_md')\n",
        "\n",
        "import nltk\n",
        "from nltk.corpus import stopwords\n",
        "from nltk.stem import WordNetLemmatizer\n",
        "\n",
        "import re\n",
        "\n",
        "import warnings\n",
        "warnings.filterwarnings(\"ignore\")\n",
        "\n",
        "pd.set_option('display.max_colwidth', 100000)"
      ],
      "id": "157b2676"
    },
    {
      "cell_type": "markdown",
      "metadata": {
        "id": "193b2e6b"
      },
      "source": [
        "# EDA"
      ],
      "id": "193b2e6b"
    },
    {
      "cell_type": "code",
      "execution_count": null,
      "metadata": {
        "colab": {
          "base_uri": "https://localhost:8080/"
        },
        "id": "8deff1dc",
        "outputId": "94fd444f-0232-4d41-ed87-82f4513ec1f0"
      },
      "outputs": [
        {
          "name": "stderr",
          "output_type": "stream",
          "text": [
            "Skipping line 104289: unexpected end of data\n"
          ]
        }
      ],
      "source": [
        "Data_toxic = pd.read_csv(\"/content/train.csv\" , engine='python', encoding='utf-8', error_bad_lines=False)"
      ],
      "id": "8deff1dc"
    },
    {
      "cell_type": "code",
      "execution_count": null,
      "metadata": {
        "colab": {
          "base_uri": "https://localhost:8080/",
          "height": 298
        },
        "id": "4b493373",
        "outputId": "73d3b0e4-d328-4ad1-96bc-87000ccbf98f"
      },
      "outputs": [
        {
          "data": {
            "text/html": [
              "\n",
              "  <div id=\"df-de139e2f-4992-46f9-bc6d-3b4a2bfa6ff9\">\n",
              "    <div class=\"colab-df-container\">\n",
              "      <div>\n",
              "<style scoped>\n",
              "    .dataframe tbody tr th:only-of-type {\n",
              "        vertical-align: middle;\n",
              "    }\n",
              "\n",
              "    .dataframe tbody tr th {\n",
              "        vertical-align: top;\n",
              "    }\n",
              "\n",
              "    .dataframe thead th {\n",
              "        text-align: right;\n",
              "    }\n",
              "</style>\n",
              "<table border=\"1\" class=\"dataframe\">\n",
              "  <thead>\n",
              "    <tr style=\"text-align: right;\">\n",
              "      <th></th>\n",
              "      <th>id</th>\n",
              "      <th>comment_text</th>\n",
              "      <th>toxic</th>\n",
              "      <th>severe_toxic</th>\n",
              "      <th>obscene</th>\n",
              "      <th>threat</th>\n",
              "      <th>insult</th>\n",
              "      <th>identity_hate</th>\n",
              "    </tr>\n",
              "  </thead>\n",
              "  <tbody>\n",
              "    <tr>\n",
              "      <th>98963</th>\n",
              "      <td>115f7ab15c5f7b66</td>\n",
              "      <td>Yes, the territorial evolution animation is very cool.  Perhaps, with the other suggested removals, we could enlarge this animation somewhat, since we'd have more room in the History section, with only two other images there.  My suggestion of Toronto was just one idea of an image to put in the Demographics section.  I'm sure there are plenty of other possibilities.\\n \\nVery much agree with the removal of images; I wanted to bring it up myself, but was too lazy to do so.  I agree with Jkelly and thirty-seven's suggestions.</td>\n",
              "      <td>0</td>\n",
              "      <td>0</td>\n",
              "      <td>0</td>\n",
              "      <td>0</td>\n",
              "      <td>0</td>\n",
              "      <td>0</td>\n",
              "    </tr>\n",
              "  </tbody>\n",
              "</table>\n",
              "</div>\n",
              "      <button class=\"colab-df-convert\" onclick=\"convertToInteractive('df-de139e2f-4992-46f9-bc6d-3b4a2bfa6ff9')\"\n",
              "              title=\"Convert this dataframe to an interactive table.\"\n",
              "              style=\"display:none;\">\n",
              "        \n",
              "  <svg xmlns=\"http://www.w3.org/2000/svg\" height=\"24px\"viewBox=\"0 0 24 24\"\n",
              "       width=\"24px\">\n",
              "    <path d=\"M0 0h24v24H0V0z\" fill=\"none\"/>\n",
              "    <path d=\"M18.56 5.44l.94 2.06.94-2.06 2.06-.94-2.06-.94-.94-2.06-.94 2.06-2.06.94zm-11 1L8.5 8.5l.94-2.06 2.06-.94-2.06-.94L8.5 2.5l-.94 2.06-2.06.94zm10 10l.94 2.06.94-2.06 2.06-.94-2.06-.94-.94-2.06-.94 2.06-2.06.94z\"/><path d=\"M17.41 7.96l-1.37-1.37c-.4-.4-.92-.59-1.43-.59-.52 0-1.04.2-1.43.59L10.3 9.45l-7.72 7.72c-.78.78-.78 2.05 0 2.83L4 21.41c.39.39.9.59 1.41.59.51 0 1.02-.2 1.41-.59l7.78-7.78 2.81-2.81c.8-.78.8-2.07 0-2.86zM5.41 20L4 18.59l7.72-7.72 1.47 1.35L5.41 20z\"/>\n",
              "  </svg>\n",
              "      </button>\n",
              "      \n",
              "  <style>\n",
              "    .colab-df-container {\n",
              "      display:flex;\n",
              "      flex-wrap:wrap;\n",
              "      gap: 12px;\n",
              "    }\n",
              "\n",
              "    .colab-df-convert {\n",
              "      background-color: #E8F0FE;\n",
              "      border: none;\n",
              "      border-radius: 50%;\n",
              "      cursor: pointer;\n",
              "      display: none;\n",
              "      fill: #1967D2;\n",
              "      height: 32px;\n",
              "      padding: 0 0 0 0;\n",
              "      width: 32px;\n",
              "    }\n",
              "\n",
              "    .colab-df-convert:hover {\n",
              "      background-color: #E2EBFA;\n",
              "      box-shadow: 0px 1px 2px rgba(60, 64, 67, 0.3), 0px 1px 3px 1px rgba(60, 64, 67, 0.15);\n",
              "      fill: #174EA6;\n",
              "    }\n",
              "\n",
              "    [theme=dark] .colab-df-convert {\n",
              "      background-color: #3B4455;\n",
              "      fill: #D2E3FC;\n",
              "    }\n",
              "\n",
              "    [theme=dark] .colab-df-convert:hover {\n",
              "      background-color: #434B5C;\n",
              "      box-shadow: 0px 1px 3px 1px rgba(0, 0, 0, 0.15);\n",
              "      filter: drop-shadow(0px 1px 2px rgba(0, 0, 0, 0.3));\n",
              "      fill: #FFFFFF;\n",
              "    }\n",
              "  </style>\n",
              "\n",
              "      <script>\n",
              "        const buttonEl =\n",
              "          document.querySelector('#df-de139e2f-4992-46f9-bc6d-3b4a2bfa6ff9 button.colab-df-convert');\n",
              "        buttonEl.style.display =\n",
              "          google.colab.kernel.accessAllowed ? 'block' : 'none';\n",
              "\n",
              "        async function convertToInteractive(key) {\n",
              "          const element = document.querySelector('#df-de139e2f-4992-46f9-bc6d-3b4a2bfa6ff9');\n",
              "          const dataTable =\n",
              "            await google.colab.kernel.invokeFunction('convertToInteractive',\n",
              "                                                     [key], {});\n",
              "          if (!dataTable) return;\n",
              "\n",
              "          const docLinkHtml = 'Like what you see? Visit the ' +\n",
              "            '<a target=\"_blank\" href=https://colab.research.google.com/notebooks/data_table.ipynb>data table notebook</a>'\n",
              "            + ' to learn more about interactive tables.';\n",
              "          element.innerHTML = '';\n",
              "          dataTable['output_type'] = 'display_data';\n",
              "          await google.colab.output.renderOutput(dataTable, element);\n",
              "          const docLink = document.createElement('div');\n",
              "          docLink.innerHTML = docLinkHtml;\n",
              "          element.appendChild(docLink);\n",
              "        }\n",
              "      </script>\n",
              "    </div>\n",
              "  </div>\n",
              "  "
            ],
            "text/plain": [
              "                     id  \\\n",
              "98963  115f7ab15c5f7b66   \n",
              "\n",
              "                                                                                                                                                                                                                                                                                                                                                                                                                                                                                                                                           comment_text  \\\n",
              "98963  Yes, the territorial evolution animation is very cool.  Perhaps, with the other suggested removals, we could enlarge this animation somewhat, since we'd have more room in the History section, with only two other images there.  My suggestion of Toronto was just one idea of an image to put in the Demographics section.  I'm sure there are plenty of other possibilities.\\n \\nVery much agree with the removal of images; I wanted to bring it up myself, but was too lazy to do so.  I agree with Jkelly and thirty-seven's suggestions.   \n",
              "\n",
              "       toxic  severe_toxic  obscene  threat  insult  identity_hate  \n",
              "98963      0             0        0       0       0              0  "
            ]
          },
          "execution_count": 21,
          "metadata": {},
          "output_type": "execute_result"
        }
      ],
      "source": [
        "Data_toxic.sample()"
      ],
      "id": "4b493373"
    },
    {
      "cell_type": "code",
      "execution_count": null,
      "metadata": {
        "colab": {
          "base_uri": "https://localhost:8080/"
        },
        "id": "be308d43",
        "outputId": "3389efe9-d171-485c-806f-ce8795ebfe2f"
      },
      "outputs": [
        {
          "data": {
            "text/plain": [
              "0"
            ]
          },
          "execution_count": 22,
          "metadata": {},
          "output_type": "execute_result"
        }
      ],
      "source": [
        "Data_toxic.duplicated().sum()"
      ],
      "id": "be308d43"
    },
    {
      "cell_type": "code",
      "execution_count": null,
      "metadata": {
        "colab": {
          "base_uri": "https://localhost:8080/"
        },
        "id": "ccedc8fc",
        "outputId": "3010a798-2266-4bbd-9101-baec79f8344a"
      },
      "outputs": [
        {
          "data": {
            "text/plain": [
              "id               0\n",
              "comment_text     0\n",
              "toxic            0\n",
              "severe_toxic     0\n",
              "obscene          0\n",
              "threat           0\n",
              "insult           0\n",
              "identity_hate    0\n",
              "dtype: int64"
            ]
          },
          "execution_count": 23,
          "metadata": {},
          "output_type": "execute_result"
        }
      ],
      "source": [
        "Data_toxic.isnull().sum()"
      ],
      "id": "ccedc8fc"
    },
    {
      "cell_type": "code",
      "execution_count": null,
      "metadata": {
        "id": "7fc05262"
      },
      "outputs": [],
      "source": [
        "def get_Catgory_values(data):\n",
        "    value_count = []\n",
        "    for i in list(data.columns):\n",
        "        value_count.append((i , data[i].sum()))\n",
        "    return pd.DataFrame(value_count , columns=[\"Label\" , \"Value count\"])    "
      ],
      "id": "7fc05262"
    },
    {
      "cell_type": "code",
      "execution_count": null,
      "metadata": {
        "colab": {
          "base_uri": "https://localhost:8080/",
          "height": 237
        },
        "id": "551aac29",
        "outputId": "f753baf3-619b-43bf-c8b1-9b53ae0c7f69"
      },
      "outputs": [
        {
          "data": {
            "text/html": [
              "\n",
              "  <div id=\"df-cb1b7975-1b24-42f8-a522-fa23762d8851\">\n",
              "    <div class=\"colab-df-container\">\n",
              "      <div>\n",
              "<style scoped>\n",
              "    .dataframe tbody tr th:only-of-type {\n",
              "        vertical-align: middle;\n",
              "    }\n",
              "\n",
              "    .dataframe tbody tr th {\n",
              "        vertical-align: top;\n",
              "    }\n",
              "\n",
              "    .dataframe thead th {\n",
              "        text-align: right;\n",
              "    }\n",
              "</style>\n",
              "<table border=\"1\" class=\"dataframe\">\n",
              "  <thead>\n",
              "    <tr style=\"text-align: right;\">\n",
              "      <th></th>\n",
              "      <th>Label</th>\n",
              "      <th>Value count</th>\n",
              "    </tr>\n",
              "  </thead>\n",
              "  <tbody>\n",
              "    <tr>\n",
              "      <th>0</th>\n",
              "      <td>toxic</td>\n",
              "      <td>10033</td>\n",
              "    </tr>\n",
              "    <tr>\n",
              "      <th>1</th>\n",
              "      <td>severe_toxic</td>\n",
              "      <td>1036</td>\n",
              "    </tr>\n",
              "    <tr>\n",
              "      <th>2</th>\n",
              "      <td>obscene</td>\n",
              "      <td>5546</td>\n",
              "    </tr>\n",
              "    <tr>\n",
              "      <th>3</th>\n",
              "      <td>threat</td>\n",
              "      <td>327</td>\n",
              "    </tr>\n",
              "    <tr>\n",
              "      <th>4</th>\n",
              "      <td>insult</td>\n",
              "      <td>5173</td>\n",
              "    </tr>\n",
              "    <tr>\n",
              "      <th>5</th>\n",
              "      <td>identity_hate</td>\n",
              "      <td>893</td>\n",
              "    </tr>\n",
              "  </tbody>\n",
              "</table>\n",
              "</div>\n",
              "      <button class=\"colab-df-convert\" onclick=\"convertToInteractive('df-cb1b7975-1b24-42f8-a522-fa23762d8851')\"\n",
              "              title=\"Convert this dataframe to an interactive table.\"\n",
              "              style=\"display:none;\">\n",
              "        \n",
              "  <svg xmlns=\"http://www.w3.org/2000/svg\" height=\"24px\"viewBox=\"0 0 24 24\"\n",
              "       width=\"24px\">\n",
              "    <path d=\"M0 0h24v24H0V0z\" fill=\"none\"/>\n",
              "    <path d=\"M18.56 5.44l.94 2.06.94-2.06 2.06-.94-2.06-.94-.94-2.06-.94 2.06-2.06.94zm-11 1L8.5 8.5l.94-2.06 2.06-.94-2.06-.94L8.5 2.5l-.94 2.06-2.06.94zm10 10l.94 2.06.94-2.06 2.06-.94-2.06-.94-.94-2.06-.94 2.06-2.06.94z\"/><path d=\"M17.41 7.96l-1.37-1.37c-.4-.4-.92-.59-1.43-.59-.52 0-1.04.2-1.43.59L10.3 9.45l-7.72 7.72c-.78.78-.78 2.05 0 2.83L4 21.41c.39.39.9.59 1.41.59.51 0 1.02-.2 1.41-.59l7.78-7.78 2.81-2.81c.8-.78.8-2.07 0-2.86zM5.41 20L4 18.59l7.72-7.72 1.47 1.35L5.41 20z\"/>\n",
              "  </svg>\n",
              "      </button>\n",
              "      \n",
              "  <style>\n",
              "    .colab-df-container {\n",
              "      display:flex;\n",
              "      flex-wrap:wrap;\n",
              "      gap: 12px;\n",
              "    }\n",
              "\n",
              "    .colab-df-convert {\n",
              "      background-color: #E8F0FE;\n",
              "      border: none;\n",
              "      border-radius: 50%;\n",
              "      cursor: pointer;\n",
              "      display: none;\n",
              "      fill: #1967D2;\n",
              "      height: 32px;\n",
              "      padding: 0 0 0 0;\n",
              "      width: 32px;\n",
              "    }\n",
              "\n",
              "    .colab-df-convert:hover {\n",
              "      background-color: #E2EBFA;\n",
              "      box-shadow: 0px 1px 2px rgba(60, 64, 67, 0.3), 0px 1px 3px 1px rgba(60, 64, 67, 0.15);\n",
              "      fill: #174EA6;\n",
              "    }\n",
              "\n",
              "    [theme=dark] .colab-df-convert {\n",
              "      background-color: #3B4455;\n",
              "      fill: #D2E3FC;\n",
              "    }\n",
              "\n",
              "    [theme=dark] .colab-df-convert:hover {\n",
              "      background-color: #434B5C;\n",
              "      box-shadow: 0px 1px 3px 1px rgba(0, 0, 0, 0.15);\n",
              "      filter: drop-shadow(0px 1px 2px rgba(0, 0, 0, 0.3));\n",
              "      fill: #FFFFFF;\n",
              "    }\n",
              "  </style>\n",
              "\n",
              "      <script>\n",
              "        const buttonEl =\n",
              "          document.querySelector('#df-cb1b7975-1b24-42f8-a522-fa23762d8851 button.colab-df-convert');\n",
              "        buttonEl.style.display =\n",
              "          google.colab.kernel.accessAllowed ? 'block' : 'none';\n",
              "\n",
              "        async function convertToInteractive(key) {\n",
              "          const element = document.querySelector('#df-cb1b7975-1b24-42f8-a522-fa23762d8851');\n",
              "          const dataTable =\n",
              "            await google.colab.kernel.invokeFunction('convertToInteractive',\n",
              "                                                     [key], {});\n",
              "          if (!dataTable) return;\n",
              "\n",
              "          const docLinkHtml = 'Like what you see? Visit the ' +\n",
              "            '<a target=\"_blank\" href=https://colab.research.google.com/notebooks/data_table.ipynb>data table notebook</a>'\n",
              "            + ' to learn more about interactive tables.';\n",
              "          element.innerHTML = '';\n",
              "          dataTable['output_type'] = 'display_data';\n",
              "          await google.colab.output.renderOutput(dataTable, element);\n",
              "          const docLink = document.createElement('div');\n",
              "          docLink.innerHTML = docLinkHtml;\n",
              "          element.appendChild(docLink);\n",
              "        }\n",
              "      </script>\n",
              "    </div>\n",
              "  </div>\n",
              "  "
            ],
            "text/plain": [
              "           Label  Value count\n",
              "0          toxic        10033\n",
              "1   severe_toxic         1036\n",
              "2        obscene         5546\n",
              "3         threat          327\n",
              "4         insult         5173\n",
              "5  identity_hate          893"
            ]
          },
          "execution_count": 25,
          "metadata": {},
          "output_type": "execute_result"
        }
      ],
      "source": [
        "get_Catgory_values(Data_toxic.iloc[: ,2:])"
      ],
      "id": "551aac29"
    },
    {
      "cell_type": "code",
      "execution_count": null,
      "metadata": {
        "id": "5b932867"
      },
      "outputs": [],
      "source": [
        "def Visualize_categories(data):\n",
        "    df = Data_toxic.sum(axis=1).value_counts().reset_index()\n",
        "    plt.bar(df[\"index\"] , df[0])"
      ],
      "id": "5b932867"
    },
    {
      "cell_type": "code",
      "execution_count": null,
      "metadata": {
        "colab": {
          "base_uri": "https://localhost:8080/",
          "height": 265
        },
        "id": "856bde15",
        "outputId": "b287da0b-1094-4fb6-d983-2eac6db4b6bc"
      },
      "outputs": [
        {
          "data": {
            "image/png": "[encoded data removed]",
            "text/plain": [
              "<Figure size 432x288 with 1 Axes>"
            ]
          },
          "metadata": {},
          "output_type": "display_data"
        }
      ],
      "source": [
        "Visualize_categories(Data_toxic.iloc[: ,2:])"
      ],
      "id": "856bde15"
    },
    {
      "cell_type": "markdown",
      "metadata": {
        "id": "9b880cfc"
      },
      "source": [
        "## Data Pre-processing "
      ],
      "id": "9b880cfc"
    },
    {
      "cell_type": "markdown",
      "metadata": {
        "id": "01c49a8b"
      },
      "source": [
        "### Remove stop words"
      ],
      "id": "01c49a8b"
    },
    {
      "cell_type": "code",
      "execution_count": null,
      "metadata": {
        "id": "yp26bpPKpwGx"
      },
      "outputs": [],
      "source": [
        "Data_toxic[\"not_toxic\"] = Data_toxic.iloc[:,2:7].sum(axis=1).apply(lambda x : 0 if x > 0 else 1)"
      ],
      "id": "yp26bpPKpwGx"
    },
    {
      "cell_type": "code",
      "execution_count": null,
      "metadata": {
        "colab": {
          "base_uri": "https://localhost:8080/",
          "height": 756
        },
        "id": "WYdwCIb4qupj",
        "outputId": "f1f6ef18-d659-469a-f7c4-408839872bf7"
      },
      "outputs": [
        {
          "data": {
            "text/html": [
              "\n",
              "  <div id=\"df-5f01c935-937b-435e-8c71-d98cfc900ca3\">\n",
              "    <div class=\"colab-df-container\">\n",
              "      <div>\n",
              "<style scoped>\n",
              "    .dataframe tbody tr th:only-of-type {\n",
              "        vertical-align: middle;\n",
              "    }\n",
              "\n",
              "    .dataframe tbody tr th {\n",
              "        vertical-align: top;\n",
              "    }\n",
              "\n",
              "    .dataframe thead th {\n",
              "        text-align: right;\n",
              "    }\n",
              "</style>\n",
              "<table border=\"1\" class=\"dataframe\">\n",
              "  <thead>\n",
              "    <tr style=\"text-align: right;\">\n",
              "      <th></th>\n",
              "      <th>id</th>\n",
              "      <th>comment_text</th>\n",
              "      <th>toxic</th>\n",
              "      <th>severe_toxic</th>\n",
              "      <th>obscene</th>\n",
              "      <th>threat</th>\n",
              "      <th>insult</th>\n",
              "      <th>identity_hate</th>\n",
              "      <th>not_toxic</th>\n",
              "    </tr>\n",
              "  </thead>\n",
              "  <tbody>\n",
              "    <tr>\n",
              "      <th>0</th>\n",
              "      <td>0000997932d777bf</td>\n",
              "      <td>Explanation\\nWhy the edits made under my username Hardcore Metallica Fan were reverted? They weren't vandalisms, just closure on some GAs after I voted at New York Dolls FAC. And please don't remove the template from the talk page since I'm retired now.89.205.38.27</td>\n",
              "      <td>0</td>\n",
              "      <td>0</td>\n",
              "      <td>0</td>\n",
              "      <td>0</td>\n",
              "      <td>0</td>\n",
              "      <td>0</td>\n",
              "      <td>1</td>\n",
              "    </tr>\n",
              "    <tr>\n",
              "      <th>1</th>\n",
              "      <td>000103f0d9cfb60f</td>\n",
              "      <td>D'aww! He matches this background colour I'm seemingly stuck with. Thanks.  (talk) 21:51, January 11, 2016 (UTC)</td>\n",
              "      <td>0</td>\n",
              "      <td>0</td>\n",
              "      <td>0</td>\n",
              "      <td>0</td>\n",
              "      <td>0</td>\n",
              "      <td>0</td>\n",
              "      <td>1</td>\n",
              "    </tr>\n",
              "    <tr>\n",
              "      <th>2</th>\n",
              "      <td>000113f07ec002fd</td>\n",
              "      <td>Hey man, I'm really not trying to edit war. It's just that this guy is constantly removing relevant information and talking to me through edits instead of my talk page. He seems to care more about the formatting than the actual info.</td>\n",
              "      <td>0</td>\n",
              "      <td>0</td>\n",
              "      <td>0</td>\n",
              "      <td>0</td>\n",
              "      <td>0</td>\n",
              "      <td>0</td>\n",
              "      <td>1</td>\n",
              "    </tr>\n",
              "    <tr>\n",
              "      <th>3</th>\n",
              "      <td>0001b41b1c6bb37e</td>\n",
              "      <td>\"\\nMore\\nI can't make any real suggestions on improvement - I wondered if the section statistics should be later on, or a subsection of \"\"types of accidents\"\"  -I think the references may need tidying so that they are all in the exact same format ie date format etc. I can do that later on, if no-one else does first - if you have any preferences for formatting style on references or want to do it yourself please let me know.\\n\\nThere appears to be a backlog on articles for review so I guess there may be a delay until a reviewer turns up. It's listed in the relevant form eg Wikipedia:Good_article_nominations#Transport  \"</td>\n",
              "      <td>0</td>\n",
              "      <td>0</td>\n",
              "      <td>0</td>\n",
              "      <td>0</td>\n",
              "      <td>0</td>\n",
              "      <td>0</td>\n",
              "      <td>1</td>\n",
              "    </tr>\n",
              "    <tr>\n",
              "      <th>4</th>\n",
              "      <td>0001d958c54c6e35</td>\n",
              "      <td>You, sir, are my hero. Any chance you remember what page that's on?</td>\n",
              "      <td>0</td>\n",
              "      <td>0</td>\n",
              "      <td>0</td>\n",
              "      <td>0</td>\n",
              "      <td>0</td>\n",
              "      <td>0</td>\n",
              "      <td>1</td>\n",
              "    </tr>\n",
              "  </tbody>\n",
              "</table>\n",
              "</div>\n",
              "      <button class=\"colab-df-convert\" onclick=\"convertToInteractive('df-5f01c935-937b-435e-8c71-d98cfc900ca3')\"\n",
              "              title=\"Convert this dataframe to an interactive table.\"\n",
              "              style=\"display:none;\">\n",
              "        \n",
              "  <svg xmlns=\"http://www.w3.org/2000/svg\" height=\"24px\"viewBox=\"0 0 24 24\"\n",
              "       width=\"24px\">\n",
              "    <path d=\"M0 0h24v24H0V0z\" fill=\"none\"/>\n",
              "    <path d=\"M18.56 5.44l.94 2.06.94-2.06 2.06-.94-2.06-.94-.94-2.06-.94 2.06-2.06.94zm-11 1L8.5 8.5l.94-2.06 2.06-.94-2.06-.94L8.5 2.5l-.94 2.06-2.06.94zm10 10l.94 2.06.94-2.06 2.06-.94-2.06-.94-.94-2.06-.94 2.06-2.06.94z\"/><path d=\"M17.41 7.96l-1.37-1.37c-.4-.4-.92-.59-1.43-.59-.52 0-1.04.2-1.43.59L10.3 9.45l-7.72 7.72c-.78.78-.78 2.05 0 2.83L4 21.41c.39.39.9.59 1.41.59.51 0 1.02-.2 1.41-.59l7.78-7.78 2.81-2.81c.8-.78.8-2.07 0-2.86zM5.41 20L4 18.59l7.72-7.72 1.47 1.35L5.41 20z\"/>\n",
              "  </svg>\n",
              "      </button>\n",
              "      \n",
              "  <style>\n",
              "    .colab-df-container {\n",
              "      display:flex;\n",
              "      flex-wrap:wrap;\n",
              "      gap: 12px;\n",
              "    }\n",
              "\n",
              "    .colab-df-convert {\n",
              "      background-color: #E8F0FE;\n",
              "      border: none;\n",
              "      border-radius: 50%;\n",
              "      cursor: pointer;\n",
              "      display: none;\n",
              "      fill: #1967D2;\n",
              "      height: 32px;\n",
              "      padding: 0 0 0 0;\n",
              "      width: 32px;\n",
              "    }\n",
              "\n",
              "    .colab-df-convert:hover {\n",
              "      background-color: #E2EBFA;\n",
              "      box-shadow: 0px 1px 2px rgba(60, 64, 67, 0.3), 0px 1px 3px 1px rgba(60, 64, 67, 0.15);\n",
              "      fill: #174EA6;\n",
              "    }\n",
              "\n",
              "    [theme=dark] .colab-df-convert {\n",
              "      background-color: #3B4455;\n",
              "      fill: #D2E3FC;\n",
              "    }\n",
              "\n",
              "    [theme=dark] .colab-df-convert:hover {\n",
              "      background-color: #434B5C;\n",
              "      box-shadow: 0px 1px 3px 1px rgba(0, 0, 0, 0.15);\n",
              "      filter: drop-shadow(0px 1px 2px rgba(0, 0, 0, 0.3));\n",
              "      fill: #FFFFFF;\n",
              "    }\n",
              "  </style>\n",
              "\n",
              "      <script>\n",
              "        const buttonEl =\n",
              "          document.querySelector('#df-5f01c935-937b-435e-8c71-d98cfc900ca3 button.colab-df-convert');\n",
              "        buttonEl.style.display =\n",
              "          google.colab.kernel.accessAllowed ? 'block' : 'none';\n",
              "\n",
              "        async function convertToInteractive(key) {\n",
              "          const element = document.querySelector('#df-5f01c935-937b-435e-8c71-d98cfc900ca3');\n",
              "          const dataTable =\n",
              "            await google.colab.kernel.invokeFunction('convertToInteractive',\n",
              "                                                     [key], {});\n",
              "          if (!dataTable) return;\n",
              "\n",
              "          const docLinkHtml = 'Like what you see? Visit the ' +\n",
              "            '<a target=\"_blank\" href=https://colab.research.google.com/notebooks/data_table.ipynb>data table notebook</a>'\n",
              "            + ' to learn more about interactive tables.';\n",
              "          element.innerHTML = '';\n",
              "          dataTable['output_type'] = 'display_data';\n",
              "          await google.colab.output.renderOutput(dataTable, element);\n",
              "          const docLink = document.createElement('div');\n",
              "          docLink.innerHTML = docLinkHtml;\n",
              "          element.appendChild(docLink);\n",
              "        }\n",
              "      </script>\n",
              "    </div>\n",
              "  </div>\n",
              "  "
            ],
            "text/plain": [
              "                 id  \\\n",
              "0  0000997932d777bf   \n",
              "1  000103f0d9cfb60f   \n",
              "2  000113f07ec002fd   \n",
              "3  0001b41b1c6bb37e   \n",
              "4  0001d958c54c6e35   \n",
              "\n",
              "                                                                                                                                                                                                                                                                                                                                                                                                                                                                                                                                                                                                                                         comment_text  \\\n",
              "0                                                                                                                                                                                                                                                                                                                                                                           Explanation\\nWhy the edits made under my username Hardcore Metallica Fan were reverted? They weren't vandalisms, just closure on some GAs after I voted at New York Dolls FAC. And please don't remove the template from the talk page since I'm retired now.89.205.38.27   \n",
              "1                                                                                                                                                                                                                                                                                                                                                                                                                                                                                                                                    D'aww! He matches this background colour I'm seemingly stuck with. Thanks.  (talk) 21:51, January 11, 2016 (UTC)   \n",
              "2                                                                                                                                                                                                                                                                                                                                                                                                           Hey man, I'm really not trying to edit war. It's just that this guy is constantly removing relevant information and talking to me through edits instead of my talk page. He seems to care more about the formatting than the actual info.   \n",
              "3  \"\\nMore\\nI can't make any real suggestions on improvement - I wondered if the section statistics should be later on, or a subsection of \"\"types of accidents\"\"  -I think the references may need tidying so that they are all in the exact same format ie date format etc. I can do that later on, if no-one else does first - if you have any preferences for formatting style on references or want to do it yourself please let me know.\\n\\nThere appears to be a backlog on articles for review so I guess there may be a delay until a reviewer turns up. It's listed in the relevant form eg Wikipedia:Good_article_nominations#Transport  \"   \n",
              "4                                                                                                                                                                                                                                                                                                                                                                                                                                                                                                                                                                                 You, sir, are my hero. Any chance you remember what page that's on?   \n",
              "\n",
              "   toxic  severe_toxic  obscene  threat  insult  identity_hate  not_toxic  \n",
              "0      0             0        0       0       0              0          1  \n",
              "1      0             0        0       0       0              0          1  \n",
              "2      0             0        0       0       0              0          1  \n",
              "3      0             0        0       0       0              0          1  \n",
              "4      0             0        0       0       0              0          1  "
            ]
          },
          "execution_count": 29,
          "metadata": {},
          "output_type": "execute_result"
        }
      ],
      "source": [
        "Data_toxic.head()"
      ],
      "id": "WYdwCIb4qupj"
    },
    {
      "cell_type": "code",
      "execution_count": null,
      "metadata": {
        "id": "rolXD4k4suHO"
      },
      "outputs": [],
      "source": [
        ""
      ],
      "id": "rolXD4k4suHO"
    },
    {
      "cell_type": "code",
      "execution_count": null,
      "metadata": {
        "colab": {
          "base_uri": "https://localhost:8080/"
        },
        "id": "e4c01a04",
        "outputId": "872cceaf-d850-4c48-a4c8-51120f9bb3c0"
      },
      "outputs": [
        {
          "name": "stderr",
          "output_type": "stream",
          "text": [
            "[nltk_data] Downloading package stopwords to /root/nltk_data...\n",
            "[nltk_data]   Package stopwords is already up-to-date!\n"
          ]
        }
      ],
      "source": [
        "nltk.download('stopwords')\n",
        "stop_words = stopwords.words('english')\n",
        "for w in stop_words:\n",
        "    nlp.vocab[w].is_stop = False"
      ],
      "id": "e4c01a04"
    },
    {
      "cell_type": "code",
      "execution_count": null,
      "metadata": {
        "id": "aa886db6"
      },
      "outputs": [],
      "source": [
        "## Pre-processing Function"
      ],
      "id": "aa886db6"
    },
    {
      "cell_type": "code",
      "execution_count": null,
      "metadata": {
        "id": "3fde1cb3"
      },
      "outputs": [],
      "source": [
        "def Clean_withRegx(text):\n",
        "    return \" \".join(re.sub(\"([\\@|\\#|\\_]+)|([^0-9A-Za-z \\t])\", \" \",text).split())\n",
        "\n",
        "def text_preprocessing(text):\n",
        "    \"\"\"Remove  \"\"\" \n",
        "    text = Clean_withRegx(text)\n",
        "\n",
        "    \"\"\"remove html tags from text\"\"\"\n",
        "    soup = BeautifulSoup(text, \"html.parser\")\n",
        "    text = soup.get_text(separator=\" \")\n",
        "    \n",
        "    \"\"\"remove extra whitespaces from text\"\"\"\n",
        "    text = text.strip()\n",
        "    text =  \" \".join(text.split())\n",
        "\n",
        "    \"\"\"remove accented characters from text, e.g. café\"\"\"\n",
        "    text = unidecode.unidecode(text)\n",
        "    \n",
        "    \"\"\"expand shortened words, e.g. don't to do not\"\"\"\n",
        "    text = contractions.fix(text)\n",
        "    \n",
        "    \"\"\"keep it all Lower\"\"\"\n",
        "    text = text.lower()\n",
        "    \n",
        "    \"\"\"tokenise text\"\"\"\n",
        "    doc = nlp(text) \n",
        "    clean_text = []\n",
        "    \n",
        "    for token in doc:\n",
        "        flag = True\n",
        "        edit = token.text\n",
        "        \n",
        "        \"\"\"remove stop words\"\"\"\n",
        "        if token.is_stop and token.pos_ != 'NUM': \n",
        "            flag = False\n",
        "            \n",
        "        \"\"\"remove punctuations\"\"\"    \n",
        "        if token.pos_ == 'PUNCT' and flag == True: \n",
        "            flag = False\n",
        "            \n",
        "        \"\"\"remove special characters \"\"\" \n",
        "        if token.pos_ == 'SYM' and flag == True: \n",
        "            flag = False\n",
        "            \n",
        "        \"\"\"remove numbers\"\"\"    \n",
        "        if (token.pos_ == 'NUM' or token.text.isnumeric()) \\\n",
        "        and flag == True:\n",
        "            flag = False\n",
        "            \n",
        "        \"\"\"convert number words to numeric numbers\"\"\"    \n",
        "        if token.pos_ == 'NUM' and flag == True:\n",
        "            edit = w2n.word_to_num(token.text)\n",
        "            \n",
        "        # convert tokens to base form     \n",
        "        elif token.lemma_ != \"-PRON-\" and flag == True:\n",
        "            edit = token.lemma_\n",
        "            \n",
        "        \"\"\"append tokens edited and not removed to list \"\"\"    \n",
        "        if edit != \"\" and flag == True:\n",
        "            clean_text.append(edit) \n",
        "        \n",
        "    return clean_text"
      ],
      "id": "3fde1cb3"
    },
    {
      "cell_type": "code",
      "execution_count": null,
      "metadata": {
        "id": "5b3ebf8a"
      },
      "outputs": [],
      "source": [
        "Data_toxic[\"comment_text\"] = Data_toxic[\"comment_text\"].apply(lambda x:' '.join(text_preprocessing(x)))"
      ],
      "id": "5b3ebf8a"
    },
    {
      "cell_type": "code",
      "execution_count": null,
      "metadata": {
        "id": "a6b94b24"
      },
      "outputs": [],
      "source": [
        "Data_toxic.to_csv(\"train_preprocessed.csv\")"
      ],
      "id": "a6b94b24"
    },
    {
      "cell_type": "markdown",
      "metadata": {
        "id": "3yh6lcXYPKiH"
      },
      "source": [
        "## Read Preprocessed Data "
      ],
      "id": "3yh6lcXYPKiH"
    },
    {
      "cell_type": "code",
      "execution_count": null,
      "metadata": {
        "id": "BE5wsr7dO0JT"
      },
      "outputs": [],
      "source": [
        "Data_toxic = pd.read_csv(\"/content/drive/MyDrive/DeepLearning Project data/train_preprocessed.csv\"\n",
        ", engine='python', encoding='utf-8', error_bad_lines=False , header = 0)"
      ],
      "id": "BE5wsr7dO0JT"
    },
    {
      "cell_type": "code",
      "execution_count": null,
      "metadata": {
        "id": "Qju47ItOPbfw"
      },
      "outputs": [],
      "source": [
        "Data_toxic.drop(\"Unnamed: 0\" , axis = 1 , inplace=True)\n",
        "Data_toxic.dropna(inplace=True)"
      ],
      "id": "Qju47ItOPbfw"
    },
    {
      "cell_type": "markdown",
      "metadata": {
        "id": "8aHSG8UtdEDQ"
      },
      "source": [
        "We should train our Bow model and BI-directional LSTM with parrt of data because limited resourses"
      ],
      "id": "8aHSG8UtdEDQ"
    },
    {
      "cell_type": "code",
      "execution_count": null,
      "metadata": {
        "id": "Qlu4T7Npc_if"
      },
      "outputs": [],
      "source": [
        "Data_toxic = Data_toxic[0:20000] "
      ],
      "id": "Qlu4T7Npc_if"
    },
    {
      "cell_type": "markdown",
      "metadata": {
        "id": "b0da8068"
      },
      "source": [
        "## Modeling"
      ],
      "id": "b0da8068"
    },
    {
      "cell_type": "code",
      "execution_count": null,
      "metadata": {
        "id": "Fijp5720vTae"
      },
      "outputs": [],
      "source": [
        "from tensorflow.keras.preprocessing.text import Tokenizer\n",
        "tok = Tokenizer(num_words= 20000 ,oov_token='UNK')\n",
        "tok.fit_on_texts(Data_toxic[\"comment_text\"])"
      ],
      "id": "Fijp5720vTae"
    },
    {
      "cell_type": "code",
      "execution_count": null,
      "metadata": {
        "colab": {
          "base_uri": "https://localhost:8080/"
        },
        "id": "RiGQZlZXvTdZ",
        "outputId": "2ebed55e-1d29-4bcc-ec81-3f3324f34eff"
      },
      "outputs": [
        {
          "name": "stdout",
          "output_type": "stream",
          "text": [
            "1\n",
            "44379\n"
          ]
        }
      ],
      "source": [
        "print(tok.word_index['UNK'])\n",
        "print(len(tok.word_index))\n",
        "length_of_word_index = len(tok.word_index)"
      ],
      "id": "RiGQZlZXvTdZ"
    },
    {
      "cell_type": "code",
      "execution_count": null,
      "metadata": {
        "id": "rioVyHUqvTgr"
      },
      "outputs": [],
      "source": [
        "from sklearn.model_selection import train_test_split\n",
        "target=Data_toxic.iloc[:,2:]\n",
        "train_words, validation_words ,train_target ,validation_target = train_test_split(Data_toxic[\"comment_text\"],target,test_size=0.2)"
      ],
      "id": "rioVyHUqvTgr"
    },
    {
      "cell_type": "code",
      "execution_count": null,
      "metadata": {
        "id": "8iJ6Z4zPvTjo"
      },
      "outputs": [],
      "source": [
        "train_words_binary = tok.texts_to_matrix(train_words, mode='binary')\n",
        "validation_words_binary = tok.texts_to_matrix(validation_words, mode='binary')"
      ],
      "id": "8iJ6Z4zPvTjo"
    },
    {
      "cell_type": "code",
      "execution_count": null,
      "metadata": {
        "colab": {
          "base_uri": "https://localhost:8080/"
        },
        "id": "-TBqFlaNvTnG",
        "outputId": "4bec16c4-74d1-4e07-c44d-f012c4c9374a"
      },
      "outputs": [
        {
          "name": "stdout",
          "output_type": "stream",
          "text": [
            "(16000,) (16000, 7)\n",
            "(4000,) (4000, 7)\n"
          ]
        }
      ],
      "source": [
        "print(train_words.shape , train_target.shape)\n",
        "print(validation_words.shape , validation_target.shape)"
      ],
      "id": "-TBqFlaNvTnG"
    },
    {
      "cell_type": "markdown",
      "metadata": {
        "id": "tXJxzFfhfAcp"
      },
      "source": [
        "# Bow Model"
      ],
      "id": "tXJxzFfhfAcp"
    },
    {
      "cell_type": "code",
      "execution_count": null,
      "metadata": {
        "colab": {
          "base_uri": "https://localhost:8080/"
        },
        "id": "5df4e306",
        "outputId": "185b4495-6bb9-4eac-e5af-c4361b5155d3"
      },
      "outputs": [
        {
          "name": "stdout",
          "output_type": "stream",
          "text": [
            "Epoch 1/10\n",
            "500/500 [==============================] - 16s 30ms/step - loss: 0.6132 - accuracy: 0.4391 - val_loss: 0.5183 - val_accuracy: 0.8760\n",
            "Epoch 2/10\n",
            "500/500 [==============================] - 10s 20ms/step - loss: 0.4319 - accuracy: 0.8949 - val_loss: 0.3467 - val_accuracy: 0.9028\n",
            "Epoch 3/10\n",
            "500/500 [==============================] - 9s 17ms/step - loss: 0.2975 - accuracy: 0.8955 - val_loss: 0.2460 - val_accuracy: 0.9028\n",
            "Epoch 4/10\n",
            "500/500 [==============================] - 9s 17ms/step - loss: 0.2342 - accuracy: 0.8955 - val_loss: 0.2060 - val_accuracy: 0.9028\n",
            "Epoch 5/10\n",
            "500/500 [==============================] - 9s 17ms/step - loss: 0.2078 - accuracy: 0.8955 - val_loss: 0.1870 - val_accuracy: 0.9028\n",
            "Epoch 6/10\n",
            "500/500 [==============================] - 9s 17ms/step - loss: 0.1913 - accuracy: 0.8955 - val_loss: 0.1737 - val_accuracy: 0.9028\n",
            "Epoch 7/10\n",
            "500/500 [==============================] - 16s 32ms/step - loss: 0.1786 - accuracy: 0.8955 - val_loss: 0.1637 - val_accuracy: 0.9028\n",
            "Epoch 8/10\n",
            "500/500 [==============================] - 11s 23ms/step - loss: 0.1689 - accuracy: 0.8955 - val_loss: 0.1564 - val_accuracy: 0.9028\n",
            "Epoch 9/10\n",
            "500/500 [==============================] - 9s 17ms/step - loss: 0.1608 - accuracy: 0.8955 - val_loss: 0.1500 - val_accuracy: 0.9028\n",
            "Epoch 10/10\n",
            "500/500 [==============================] - 9s 17ms/step - loss: 0.1537 - accuracy: 0.8956 - val_loss: 0.1442 - val_accuracy: 0.9030\n"
          ]
        },
        {
          "data": {
            "text/plain": [
              "<keras.callbacks.History at 0x7f251b399c90>"
            ]
          },
          "execution_count": 13,
          "metadata": {},
          "output_type": "execute_result"
        }
      ],
      "source": [
        "from keras import layers,models\n",
        "\n",
        "model=models.Sequential()\n",
        "model.add(layers.Dense(128,activation='relu',input_shape=(20000,)))\n",
        "model.add(layers.Dense(64,activation='relu'))\n",
        "model.add(layers.Dense(16,activation='relu'))\n",
        "model.add(layers.Dense(7,activation='softmax'))\n",
        "\n",
        "\n",
        "\n",
        "from tensorflow.keras.optimizers import RMSprop\n",
        "from tensorflow import keras\n",
        "model.compile(optimizer= RMSprop(lr=2e-5),\n",
        "              loss= \"binary_crossentropy\",\n",
        "              metrics= [\"accuracy\"])\n",
        "\n",
        "model.fit(train_words_binary,train_target,epochs=10,validation_data=(validation_words_binary,validation_target))"
      ],
      "id": "5df4e306"
    },
    {
      "cell_type": "code",
      "execution_count": null,
      "metadata": {
        "id": "nzvQQV7pehDz"
      },
      "outputs": [],
      "source": [
        "filename = 'Bow_Model.sav'\n",
        "pickle.dump(model, open(filename, 'wb'))"
      ],
      "id": "nzvQQV7pehDz"
    },
    {
      "cell_type": "code",
      "execution_count": null,
      "metadata": {
        "id": "ylZfrIdRKYQw"
      },
      "outputs": [],
      "source": [
        "train_words_sequnces = tok.texts_to_sequences(train_words)\n",
        "validation_words_sequnces = tok.texts_to_sequences(validation_words)"
      ],
      "id": "ylZfrIdRKYQw"
    },
    {
      "cell_type": "code",
      "execution_count": null,
      "metadata": {
        "id": "rlglPN1P2WaI"
      },
      "outputs": [],
      "source": [
        "def get_longest_text(texts):\n",
        "    longest_input = 0\n",
        "    for text in texts:\n",
        "        text_len= len(text.split())\n",
        "        longest_input = max(longest_input, text_len)\n",
        "    return longest_input"
      ],
      "id": "rlglPN1P2WaI"
    },
    {
      "cell_type": "code",
      "execution_count": null,
      "metadata": {
        "id": "tPj-lX0k2WdI"
      },
      "outputs": [],
      "source": [
        "Longest_comment = get_longest_text(Data_toxic[\"comment_text\"])"
      ],
      "id": "tPj-lX0k2WdI"
    },
    {
      "cell_type": "code",
      "execution_count": null,
      "metadata": {
        "id": "tBesPI_6Kh9Z"
      },
      "outputs": [],
      "source": [
        "train_words_sequnces = pad_sequences(train_words_sequnces, maxlen=Longest_comment, padding='post',truncating='post')\n",
        "validation_words_sequnces = pad_sequences(validation_words_sequnces, maxlen=Longest_comment, padding='post', truncating='post')"
      ],
      "id": "tBesPI_6Kh9Z"
    },
    {
      "cell_type": "markdown",
      "metadata": {
        "id": "Mrb1BAB_fDNq"
      },
      "source": [
        "# GRU Model"
      ],
      "id": "Mrb1BAB_fDNq"
    },
    {
      "cell_type": "code",
      "execution_count": null,
      "metadata": {
        "colab": {
          "base_uri": "https://localhost:8080/"
        },
        "id": "8188912d",
        "outputId": "d4d3f698-c2da-4571-af8a-0343025fe214"
      },
      "outputs": [
        {
          "name": "stdout",
          "output_type": "stream",
          "text": [
            "Epoch 1/10\n",
            "2607/2607 [==============================] - 172s 61ms/step - loss: 0.2446 - accuracy: 0.8958 - val_loss: 0.1695 - val_accuracy: 0.8968\n",
            "Epoch 2/10\n",
            "2607/2607 [==============================] - 157s 60ms/step - loss: 0.1678 - accuracy: 0.8983 - val_loss: 0.1700 - val_accuracy: 0.8968\n",
            "Epoch 3/10\n",
            "2607/2607 [==============================] - 158s 61ms/step - loss: 0.1679 - accuracy: 0.8983 - val_loss: 0.1697 - val_accuracy: 0.8968\n",
            "Epoch 4/10\n",
            "2607/2607 [==============================] - 156s 60ms/step - loss: 0.1679 - accuracy: 0.8983 - val_loss: 0.1696 - val_accuracy: 0.8968\n",
            "Epoch 5/10\n",
            "2607/2607 [==============================] - 157s 60ms/step - loss: 0.1678 - accuracy: 0.8983 - val_loss: 0.1697 - val_accuracy: 0.8968\n",
            "Epoch 6/10\n",
            "2607/2607 [==============================] - 157s 60ms/step - loss: 0.1679 - accuracy: 0.8983 - val_loss: 0.1695 - val_accuracy: 0.8968\n",
            "Epoch 7/10\n",
            "2607/2607 [==============================] - 158s 61ms/step - loss: 0.1679 - accuracy: 0.8983 - val_loss: 0.1695 - val_accuracy: 0.8968\n",
            "Epoch 8/10\n",
            "2607/2607 [==============================] - 157s 60ms/step - loss: 0.1678 - accuracy: 0.8983 - val_loss: 0.1701 - val_accuracy: 0.8968\n",
            "Epoch 9/10\n",
            "2607/2607 [==============================] - 172s 66ms/step - loss: 0.1678 - accuracy: 0.8983 - val_loss: 0.1695 - val_accuracy: 0.8968\n",
            "Epoch 10/10\n",
            "2607/2607 [==============================] - 167s 64ms/step - loss: 0.1678 - accuracy: 0.8983 - val_loss: 0.1695 - val_accuracy: 0.8968\n"
          ]
        },
        {
          "data": {
            "text/plain": [
              "<keras.callbacks.History at 0x7f5d356a0510>"
            ]
          },
          "execution_count": 14,
          "metadata": {},
          "output_type": "execute_result"
        }
      ],
      "source": [
        "model_2=models.Sequential()\n",
        "model_2.add(layers.Embedding(length_of_word_index , 256))\n",
        "model_2.add(layers.GRU(128))\n",
        "model_2.add(layers.Dense(64,activation='relu'))\n",
        "model_2.add(layers.Dense(7,activation='sigmoid'))\n",
        "\n",
        "model_2.compile(loss='binary_crossentropy',\n",
        "              optimizer=tf.keras.optimizers.RMSprop(learning_rate=2e-5),\n",
        "              metrics=['accuracy'])\n",
        "\n",
        "model_2.fit(train_words_sequnces,train_target,epochs=10,validation_data=(validation_words_sequnces,validation_target))"
      ],
      "id": "8188912d"
    },
    {
      "cell_type": "markdown",
      "metadata": {
        "id": "mkFK2FwU0yt0"
      },
      "source": [
        "[How to Save and Load Model](https://machinelearningmastery.com/save-load-machine-learning-models-python-scikit-learn/)"
      ],
      "id": "mkFK2FwU0yt0"
    },
    {
      "cell_type": "code",
      "execution_count": null,
      "metadata": {
        "id": "1_EYEa3E0RJv"
      },
      "outputs": [],
      "source": [
        "import pickle"
      ],
      "id": "1_EYEa3E0RJv"
    },
    {
      "cell_type": "code",
      "execution_count": null,
      "metadata": {
        "colab": {
          "base_uri": "https://localhost:8080/"
        },
        "id": "eE2uFMUS0RMv",
        "outputId": "b7c8b24c-c396-4ec6-e280-95caa2d381c1"
      },
      "outputs": [
        {
          "name": "stderr",
          "output_type": "stream",
          "text": [
            "WARNING:absl:Found untraced functions such as gru_cell_layer_call_fn, gru_cell_layer_call_and_return_conditional_losses while saving (showing 2 of 2). These functions will not be directly callable after loading.\n"
          ]
        },
        {
          "name": "stdout",
          "output_type": "stream",
          "text": [
            "INFO:tensorflow:Assets written to: ram://40b30699-cc29-4e74-8ded-e5cadd9d6126/assets\n"
          ]
        },
        {
          "name": "stderr",
          "output_type": "stream",
          "text": [
            "INFO:tensorflow:Assets written to: ram://40b30699-cc29-4e74-8ded-e5cadd9d6126/assets\n",
            "WARNING:absl:<keras.layers.recurrent.GRUCell object at 0x7f5d365b3590> has the same name 'GRUCell' as a built-in Keras object. Consider renaming <class 'keras.layers.recurrent.GRUCell'> to avoid naming conflicts when loading with `tf.keras.models.load_model`. If renaming is not possible, pass the object in the `custom_objects` parameter of the load function.\n"
          ]
        }
      ],
      "source": [
        "filename = 'GRU_Model.sav'\n",
        "pickle.dump(model_2, open(filename, 'wb'))"
      ],
      "id": "eE2uFMUS0RMv"
    },
    {
      "cell_type": "markdown",
      "metadata": {
        "id": "rsoSuYowfKXJ"
      },
      "source": [
        "# LSTM Model"
      ],
      "id": "rsoSuYowfKXJ"
    },
    {
      "cell_type": "code",
      "execution_count": null,
      "metadata": {
        "colab": {
          "base_uri": "https://localhost:8080/"
        },
        "id": "d3932b68",
        "outputId": "2533d930-3efa-4bcc-91ae-a54f72982c07"
      },
      "outputs": [
        {
          "name": "stdout",
          "output_type": "stream",
          "text": [
            "Epoch 1/10\n",
            "2607/2607 [==============================] - 205s 78ms/step - loss: 0.2261 - accuracy: 0.8944 - val_loss: 0.1695 - val_accuracy: 0.8968\n",
            "Epoch 2/10\n",
            "2607/2607 [==============================] - 203s 78ms/step - loss: 0.1678 - accuracy: 0.8983 - val_loss: 0.1695 - val_accuracy: 0.8968\n",
            "Epoch 3/10\n",
            "2607/2607 [==============================] - 198s 76ms/step - loss: 0.1678 - accuracy: 0.8983 - val_loss: 0.1695 - val_accuracy: 0.8968\n",
            "Epoch 4/10\n",
            "2607/2607 [==============================] - 194s 75ms/step - loss: 0.1678 - accuracy: 0.8983 - val_loss: 0.1695 - val_accuracy: 0.8968\n",
            "Epoch 5/10\n",
            "2607/2607 [==============================] - 197s 76ms/step - loss: 0.1678 - accuracy: 0.8983 - val_loss: 0.1695 - val_accuracy: 0.8968\n",
            "Epoch 6/10\n",
            "2607/2607 [==============================] - 195s 75ms/step - loss: 0.1678 - accuracy: 0.8983 - val_loss: 0.1695 - val_accuracy: 0.8968\n",
            "Epoch 7/10\n",
            "2607/2607 [==============================] - 201s 77ms/step - loss: 0.1678 - accuracy: 0.8983 - val_loss: 0.1695 - val_accuracy: 0.8968\n",
            "Epoch 8/10\n",
            "2607/2607 [==============================] - 195s 75ms/step - loss: 0.1678 - accuracy: 0.8983 - val_loss: 0.1695 - val_accuracy: 0.8968\n",
            "Epoch 9/10\n",
            "2607/2607 [==============================] - 197s 76ms/step - loss: 0.1678 - accuracy: 0.8983 - val_loss: 0.1695 - val_accuracy: 0.8968\n",
            "Epoch 10/10\n",
            "2607/2607 [==============================] - 196s 75ms/step - loss: 0.1678 - accuracy: 0.8983 - val_loss: 0.1696 - val_accuracy: 0.8968\n"
          ]
        },
        {
          "data": {
            "text/plain": [
              "<keras.callbacks.History at 0x7f5d353a0a50>"
            ]
          },
          "execution_count": 19,
          "metadata": {},
          "output_type": "execute_result"
        }
      ],
      "source": [
        "model_3=models.Sequential()\n",
        "model_3.add(layers.Embedding(length_of_word_index , 256))\n",
        "model_3.add(layers.LSTM(128))\n",
        "model_3.add(layers.Dense(64,activation='relu'))\n",
        "model_3.add(layers.Dense(7,activation='sigmoid'))\n",
        "\n",
        "model_3.compile(loss='binary_crossentropy',\n",
        "              optimizer=tf.keras.optimizers.RMSprop(learning_rate=2e-5),\n",
        "              metrics=['accuracy'])\n",
        "\n",
        "model_3.fit(train_words_sequnces,train_target,epochs=10,validation_data=(validation_words_sequnces,validation_target))"
      ],
      "id": "d3932b68"
    },
    {
      "cell_type": "code",
      "execution_count": null,
      "metadata": {
        "colab": {
          "base_uri": "https://localhost:8080/"
        },
        "id": "8a8723e0",
        "outputId": "4b30846f-47cb-4aea-b57c-d7378689b8b5"
      },
      "outputs": [
        {
          "name": "stderr",
          "output_type": "stream",
          "text": [
            "WARNING:absl:Found untraced functions such as lstm_cell_1_layer_call_fn, lstm_cell_1_layer_call_and_return_conditional_losses while saving (showing 2 of 2). These functions will not be directly callable after loading.\n"
          ]
        },
        {
          "name": "stdout",
          "output_type": "stream",
          "text": [
            "INFO:tensorflow:Assets written to: ram://d8d65856-957b-464b-a1e7-abe6862a2a75/assets\n"
          ]
        },
        {
          "name": "stderr",
          "output_type": "stream",
          "text": [
            "INFO:tensorflow:Assets written to: ram://d8d65856-957b-464b-a1e7-abe6862a2a75/assets\n",
            "WARNING:absl:<keras.layers.recurrent.LSTMCell object at 0x7f5d353595d0> has the same name 'LSTMCell' as a built-in Keras object. Consider renaming <class 'keras.layers.recurrent.LSTMCell'> to avoid naming conflicts when loading with `tf.keras.models.load_model`. If renaming is not possible, pass the object in the `custom_objects` parameter of the load function.\n"
          ]
        }
      ],
      "source": [
        "filename = 'LSTM_Model.sav'\n",
        "pickle.dump(model_3, open(filename, 'wb'))"
      ],
      "id": "8a8723e0"
    },
    {
      "cell_type": "markdown",
      "metadata": {
        "id": "IKZWbKopfOXR"
      },
      "source": [
        "BIdirectional LSTM"
      ],
      "id": "IKZWbKopfOXR"
    },
    {
      "cell_type": "code",
      "execution_count": null,
      "metadata": {
        "colab": {
          "background_save": true,
          "base_uri": "https://localhost:8080/"
        },
        "id": "d7d64186",
        "outputId": "75de4fce-5e84-49e7-ffdc-4120794980b8"
      },
      "outputs": [
        {
          "name": "stdout",
          "output_type": "stream",
          "text": [
            "Epoch 1/10\n",
            "500/500 [==============================] - 888s 2s/step - loss: 0.6331 - accuracy: 0.8516 - val_loss: 0.5585 - val_accuracy: 0.9028\n",
            "Epoch 2/10\n",
            "500/500 [==============================] - 875s 2s/step - loss: 0.4091 - accuracy: 0.8955 - val_loss: 0.2614 - val_accuracy: 0.9028\n",
            "Epoch 3/10\n",
            "500/500 [==============================] - 874s 2s/step - loss: 0.2237 - accuracy: 0.8955 - val_loss: 0.1904 - val_accuracy: 0.9028\n",
            "Epoch 4/10\n",
            "500/500 [==============================] - 874s 2s/step - loss: 0.1873 - accuracy: 0.8955 - val_loss: 0.1741 - val_accuracy: 0.9028\n",
            "Epoch 5/10\n",
            "500/500 [==============================] - 873s 2s/step - loss: 0.1775 - accuracy: 0.8955 - val_loss: 0.1686 - val_accuracy: 0.9028\n",
            "Epoch 6/10\n",
            "500/500 [==============================] - 892s 2s/step - loss: 0.1739 - accuracy: 0.8955 - val_loss: 0.1665 - val_accuracy: 0.9028\n",
            "Epoch 7/10\n",
            "500/500 [==============================] - 884s 2s/step - loss: 0.1725 - accuracy: 0.8955 - val_loss: 0.1655 - val_accuracy: 0.9028\n",
            "Epoch 8/10\n",
            "500/500 [==============================] - 879s 2s/step - loss: 0.1717 - accuracy: 0.8955 - val_loss: 0.1648 - val_accuracy: 0.9028\n",
            "Epoch 9/10\n",
            " 95/500 [====>.........................] - ETA: 11:24 - loss: 0.1673 - accuracy: 0.9039"
          ]
        }
      ],
      "source": [
        "model_4 = models.Sequential()\n",
        "model_4.add(layers.Embedding(length_of_word_index , 64))\n",
        "model_4.add(layers.SpatialDropout1D(0.4))\n",
        "model_4.add(layers.Bidirectional(layers.LSTM(32, dropout=0.05, recurrent_dropout=0.2 )))\n",
        "model_4.add(layers.Dense(7, activation='sigmoid'))\n",
        "\n",
        "model_4.compile(loss='binary_crossentropy',\n",
        "              optimizer=tf.keras.optimizers.RMSprop(learning_rate=2e-5),\n",
        "              metrics=['accuracy'])\n",
        "\n",
        "model_4.fit(train_words_sequnces,train_target,epochs=10,validation_data=(validation_words_sequnces,validation_target))"
      ],
      "id": "d7d64186"
    },
    {
      "cell_type": "code",
      "execution_count": null,
      "metadata": {
        "id": "aj34yOH2dE6M"
      },
      "outputs": [],
      "source": [
        "filename = 'BI_LSTM_Model.sav'\n",
        "pickle.dump(model_4, open(filename, 'wb'))"
      ],
      "id": "aj34yOH2dE6M"
    },
    {
      "cell_type": "code",
      "execution_count": null,
      "metadata": {
        "id": "lYxk4gE9dE8p"
      },
      "outputs": [],
      "source": [
        ""
      ],
      "id": "lYxk4gE9dE8p"
    }
  ],
  "metadata": {
    "accelerator": "TPU",
    "colab": {
      "name": "Toxic Comment.ipynb",
      "provenance": []
    },
    "gpuClass": "standard",
    "kernelspec": {
      "display_name": "Python 3 (ipykernel)",
      "language": "python",
      "name": "python3"
    },
    "language_info": {
      "codemirror_mode": {
        "name": "ipython",
        "version": 3
      },
      "file_extension": ".py",
      "mimetype": "text/x-python",
      "name": "python",
      "nbconvert_exporter": "python",
      "pygments_lexer": "ipython3",
      "version": "3.8.13"
    }
  },
  "nbformat": 4,
  "nbformat_minor": 5
}